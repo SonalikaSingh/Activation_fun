{
  "nbformat": 4,
  "nbformat_minor": 0,
  "metadata": {
    "colab": {
      "name": "CB_Activation_functions",
      "provenance": [],
      "authorship_tag": "ABX9TyMzkITNT60en5Q9X0D+xtRL",
      "include_colab_link": true
    },
    "kernelspec": {
      "name": "python3",
      "display_name": "Python 3"
    },
    "language_info": {
      "name": "python"
    }
  },
  "cells": [
    {
      "cell_type": "markdown",
      "metadata": {
        "id": "view-in-github",
        "colab_type": "text"
      },
      "source": [
        "<a href=\"https://colab.research.google.com/github/SonalikaSingh/Activation_fun/blob/main/CB_Activation_functions.ipynb\" target=\"_parent\"><img src=\"https://colab.research.google.com/assets/colab-badge.svg\" alt=\"Open In Colab\"/></a>"
      ]
    },
    {
      "cell_type": "code",
      "metadata": {
        "id": "Jx20tiCg35o9"
      },
      "source": [
        "import math"
      ],
      "execution_count": null,
      "outputs": []
    },
    {
      "cell_type": "code",
      "metadata": {
        "id": "H2962Xkd5djI"
      },
      "source": [
        "#Sigmoid Function--->It is generally used in binary classification to get values between 0 and 1\n",
        "def Sigmoid(x):\n",
        "  return(1/(1+math.exp(-x)))"
      ],
      "execution_count": null,
      "outputs": []
    },
    {
      "cell_type": "code",
      "metadata": {
        "colab": {
          "base_uri": "https://localhost:8080/"
        },
        "id": "PtF8--z85qoY",
        "outputId": "900a0702-a543-4ceb-da94-30ec89c075b6"
      },
      "source": [
        "Sigmoid(100)"
      ],
      "execution_count": null,
      "outputs": [
        {
          "output_type": "execute_result",
          "data": {
            "text/plain": [
              "1.0"
            ]
          },
          "metadata": {
            "tags": []
          },
          "execution_count": 4
        }
      ]
    },
    {
      "cell_type": "code",
      "metadata": {
        "colab": {
          "base_uri": "https://localhost:8080/"
        },
        "id": "GU5Zg30e5wVv",
        "outputId": "63ac4387-e6d7-4d58-ce5e-6b32ca43af73"
      },
      "source": [
        "Sigmoid(-100)"
      ],
      "execution_count": null,
      "outputs": [
        {
          "output_type": "execute_result",
          "data": {
            "text/plain": [
              "3.7200759760208356e-44"
            ]
          },
          "metadata": {
            "tags": []
          },
          "execution_count": 5
        }
      ]
    },
    {
      "cell_type": "code",
      "metadata": {
        "id": "xHmofSlN5y_G"
      },
      "source": [
        "#tanh--->shifted version of sigmoid\n",
        "def tanh(x):\n",
        "  return((math.exp(x)-math.exp(-x))/(math.exp(x)+math.exp(-x)))"
      ],
      "execution_count": null,
      "outputs": []
    },
    {
      "cell_type": "code",
      "metadata": {
        "colab": {
          "base_uri": "https://localhost:8080/"
        },
        "id": "_1Y6pgWq6asi",
        "outputId": "b877bac3-19a4-427e-a7c0-60b7d4bc2d11"
      },
      "source": [
        "tanh(1)"
      ],
      "execution_count": null,
      "outputs": [
        {
          "output_type": "execute_result",
          "data": {
            "text/plain": [
              "0.7615941559557649"
            ]
          },
          "metadata": {
            "tags": []
          },
          "execution_count": 14
        }
      ]
    },
    {
      "cell_type": "code",
      "metadata": {
        "colab": {
          "base_uri": "https://localhost:8080/"
        },
        "id": "9ITZmsAe6fKy",
        "outputId": "cc67351e-ada8-4d70-f415-7d0de32b458e"
      },
      "source": [
        "tanh(-100)"
      ],
      "execution_count": null,
      "outputs": [
        {
          "output_type": "execute_result",
          "data": {
            "text/plain": [
              "-1.0"
            ]
          },
          "metadata": {
            "tags": []
          },
          "execution_count": 13
        }
      ]
    },
    {
      "cell_type": "code",
      "metadata": {
        "id": "Ny34l8CH6hVC"
      },
      "source": [
        "#Relu\n",
        "\n",
        "def relu(x):\n",
        "  return max(0,x)"
      ],
      "execution_count": null,
      "outputs": []
    },
    {
      "cell_type": "code",
      "metadata": {
        "colab": {
          "base_uri": "https://localhost:8080/"
        },
        "id": "fJEEuZps65lu",
        "outputId": "8aa4156a-bcef-4585-ca20-bd24d5ea0f31"
      },
      "source": [
        "relu(99)"
      ],
      "execution_count": null,
      "outputs": [
        {
          "output_type": "execute_result",
          "data": {
            "text/plain": [
              "99"
            ]
          },
          "metadata": {
            "tags": []
          },
          "execution_count": 17
        }
      ]
    },
    {
      "cell_type": "code",
      "metadata": {
        "colab": {
          "base_uri": "https://localhost:8080/"
        },
        "id": "eQYz-rkt6_C8",
        "outputId": "378f6b87-fa65-4127-a3c8-a73af9538d43"
      },
      "source": [
        "relu(-2)"
      ],
      "execution_count": null,
      "outputs": [
        {
          "output_type": "execute_result",
          "data": {
            "text/plain": [
              "0"
            ]
          },
          "metadata": {
            "tags": []
          },
          "execution_count": 18
        }
      ]
    },
    {
      "cell_type": "code",
      "metadata": {
        "id": "H1X4xqdy7AwK"
      },
      "source": [
        "#Leaky relu\n",
        "def leaky_relu(x):\n",
        "  return max(0.1*x,x)"
      ],
      "execution_count": null,
      "outputs": []
    },
    {
      "cell_type": "code",
      "metadata": {
        "colab": {
          "base_uri": "https://localhost:8080/"
        },
        "id": "5WM3lrEA7K3g",
        "outputId": "923cd55e-c617-4ca6-96a4-27590ccd4f5b"
      },
      "source": [
        "leaky_relu(0.2)"
      ],
      "execution_count": null,
      "outputs": [
        {
          "output_type": "execute_result",
          "data": {
            "text/plain": [
              "0.2"
            ]
          },
          "metadata": {
            "tags": []
          },
          "execution_count": 20
        }
      ]
    },
    {
      "cell_type": "code",
      "metadata": {
        "colab": {
          "base_uri": "https://localhost:8080/"
        },
        "id": "YzyqFoUD7Nd_",
        "outputId": "77ad83c0-3fa4-42e2-cdcf-53a5eb03dc41"
      },
      "source": [
        "leaky_relu(-0.2)"
      ],
      "execution_count": null,
      "outputs": [
        {
          "output_type": "execute_result",
          "data": {
            "text/plain": [
              "-0.020000000000000004"
            ]
          },
          "metadata": {
            "tags": []
          },
          "execution_count": 21
        }
      ]
    },
    {
      "cell_type": "code",
      "metadata": {
        "id": "nYVUxM-S7VAz"
      },
      "source": [
        ""
      ],
      "execution_count": null,
      "outputs": []
    }
  ]
}